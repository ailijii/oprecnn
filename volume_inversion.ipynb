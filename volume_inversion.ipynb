{
 "cells": [
  {
   "cell_type": "markdown",
   "metadata": {},
   "source": [
    "# Inverse problem for the wave equation using an operator recurrent neural network\n",
    "\n",
    "We consider the inverse problem to find $a$ in the below wave equation given \n",
    "the Neumann-to-Dirichlet map \n",
    "\n",
    "$$\n",
    "\\Lambda h = u|_{x = 0},\n",
    "$$\n",
    "\n",
    "where $u$ is the solution to the problem \n",
    "\n",
    "$$\n",
    "\\begin{cases}\n",
    "\\partial_t^2 u - a(x) \\partial_x^2 u = 0, & \\text{on $(0,T) \\times (0,L)$},\n",
    "\\\\\n",
    "\\partial_x u|_{x=0} = h, \\quad \\partial_x u|_{x=L} = 0,\n",
    "\\\\\n",
    "u|_{t=0} = 0, \\quad \\partial_t u|_{t=0} = 0.\n",
    "\\end{cases}\n",
    "$$\n",
    "\n",
    "Here we consider only a subproblem related to the inverse problem to find $a$.\n",
    "In Section 2 of \n",
    "\n",
    "> Jussi Korpela, Matti Lassas and Lauri Oksanen.\n",
    "> _Regularization strategy for an inverse problem for a 1 + 1 dimensional wave equation_.\n",
    "> Inverse Problems 32, 065001, 2016.\n",
    "> <https://doi.org/10.1088/0266-5611/32/6/065001> \n",
    "\n",
    "it was shown that $\\Lambda$ determines the following volumes \n",
    "\n",
    "$$\n",
    "V(r) = \\int_0^{\\chi(r)} \\frac{1}{c(x)^2} dx\n",
    "$$\n",
    "\n",
    "and that these volumes then determine $a$.\n",
    "Here $c^2 = a$ and $\\chi$ is the inverse function of $\\tau$ defined by\n",
    "\n",
    "$$\n",
    "\\tau(y) = \\int_0^y \\frac{1}{c(x)} dx.\n",
    "$$\n",
    "\n",
    "\n",
    "We consider the subproblem to compute a single volume $V(r_0)$, with fixed $r_0>0$, given $\\Lambda$. \n",
    "We solve this problem using a neural network, with the network architecture taken from \n",
    "\n",
    "> Maarten V. de Hoop, Matti Lassas, Christopher A. Wong. _Deep learning architectures for nonlinear operator functions and nonlinear inverse problems_. [arXiv:1912.11090](https://arxiv.org/abs/1912.11090)\n",
    "\n",
    "The training data consists of pairs $(\\Lambda, V(r_0))$ corresponding to different functions $a$.\n",
    "Here $\\Lambda$ is, of course, discretized, and the details of the discretization are discussed in the notebook describing the generation of the data. \n"
   ]
  },
  {
   "cell_type": "markdown",
   "metadata": {},
   "source": [
    "# Initialization"
   ]
  },
  {
   "cell_type": "code",
   "execution_count": 89,
   "metadata": {},
   "outputs": [],
   "source": [
    "import numpy as np\n",
    "import torch\n",
    "\n",
    "import opnet\n",
    "from volume_inversion_data import generate_data, save_data, load_data\n",
    "\n",
    "PATH = './volume_inversion_NOReLU.pth'\n",
    "PATH = './volume_inversion_ReLU.pth'"
   ]
  },
  {
   "cell_type": "markdown",
   "metadata": {},
   "source": [
    "Specify the network model and the loss function."
   ]
  },
  {
   "cell_type": "code",
   "execution_count": 90,
   "metadata": {},
   "outputs": [],
   "source": [
    "\n",
    "dim = 126 # this needs be the size of Lambda_h\n",
    "num_layers = 5\n",
    "# luodaan uusi neuroverkko\n",
    "# model = opnet.OperatorNet(dim, 2*num_layers, scalar_output=True, useReLU=False)\n",
    "model = opnet.OperatorNet(dim, num_layers, scalar_output=True, useReLU=True)\n",
    "loss_fn = torch.nn.MSELoss()"
   ]
  },
  {
   "cell_type": "markdown",
   "metadata": {},
   "source": [
    "# Generation of training data"
   ]
  },
  {
   "cell_type": "code",
   "execution_count": 91,
   "metadata": {},
   "outputs": [],
   "source": [
    "save_data(*generate_data(60), \"volume_inversion_train_data.npz\")\n",
    "save_data(*generate_data(10), \"volume_inversion_test_data.npz\")"
   ]
  },
  {
   "cell_type": "markdown",
   "metadata": {},
   "source": [
    "# Training"
   ]
  },
  {
   "cell_type": "code",
   "execution_count": 92,
   "metadata": {},
   "outputs": [
    {
     "name": "stdout",
     "output_type": "stream",
     "text": [
      "1      nan \n",
      "\n",
      "2      nan \n",
      "\n",
      "3      nan \n",
      "\n",
      "4      nan \n",
      "\n",
      "5      nan \n",
      "\n"
     ]
    },
    {
     "ename": "KeyboardInterrupt",
     "evalue": "",
     "output_type": "error",
     "traceback": [
      "\u001b[1;31m---------------------------------------------------------------------------\u001b[0m",
      "\u001b[1;31mKeyboardInterrupt\u001b[0m                         Traceback (most recent call last)",
      "Cell \u001b[1;32mIn [92], line 19\u001b[0m\n\u001b[0;32m      9\u001b[0m lr\u001b[38;5;241m=\u001b[39m\u001b[38;5;241m1e-2\u001b[39m\n\u001b[0;32m     11\u001b[0m \u001b[38;5;66;03m# upload the neural network used earlier:\u001b[39;00m\n\u001b[0;32m     12\u001b[0m \u001b[38;5;66;03m# if os.path.exists(PATH):\u001b[39;00m\n\u001b[0;32m     13\u001b[0m \u001b[38;5;66;03m#     # PATH-tiedostoon on tallennettu verkko ja tämä lataa sen kertoimet ylempänä \u001b[39;00m\n\u001b[1;32m   (...)\u001b[0m\n\u001b[0;32m     16\u001b[0m \u001b[38;5;66;03m# else:\u001b[39;00m\n\u001b[0;32m     17\u001b[0m \u001b[38;5;66;03m#     print(\"no old PATH, I'll make a new one\")\u001b[39;00m\n\u001b[1;32m---> 19\u001b[0m \u001b[43mwave_training_and_testing\u001b[49m\u001b[38;5;241;43m.\u001b[39;49m\u001b[43mwave_training_and_testing\u001b[49m\u001b[43m(\u001b[49m\u001b[43mmodel\u001b[49m\u001b[43m,\u001b[49m\u001b[43m \u001b[49m\u001b[43mloss_fn\u001b[49m\u001b[43m,\u001b[49m\u001b[43m \u001b[49m\u001b[43mlr\u001b[49m\u001b[43m)\u001b[49m\n",
      "File \u001b[1;32mc:\\Users\\Aili\\Documents\\Yliopisto\\Maisteri\\Gradu - Aaltoyhtälön inversio-ongelma käyttäen neuroverkkoja\\oprecnn\\wave_training_and_testing.py:31\u001b[0m, in \u001b[0;36mwave_training_and_testing\u001b[1;34m(model, loss_fn, lr)\u001b[0m\n\u001b[0;32m     29\u001b[0m \u001b[39m# Backpropagation\u001b[39;00m\n\u001b[0;32m     30\u001b[0m optimizer\u001b[39m.\u001b[39mzero_grad()\n\u001b[1;32m---> 31\u001b[0m loss\u001b[39m.\u001b[39;49mbackward()\n\u001b[0;32m     32\u001b[0m optimizer\u001b[39m.\u001b[39mstep()\n\u001b[0;32m     33\u001b[0m \u001b[39m# Print statistics\u001b[39;00m\n",
      "File \u001b[1;32mc:\\Users\\Aili\\miniconda3\\envs\\oprecnn\\lib\\site-packages\\torch\\_tensor.py:396\u001b[0m, in \u001b[0;36mTensor.backward\u001b[1;34m(self, gradient, retain_graph, create_graph, inputs)\u001b[0m\n\u001b[0;32m    387\u001b[0m \u001b[39mif\u001b[39;00m has_torch_function_unary(\u001b[39mself\u001b[39m):\n\u001b[0;32m    388\u001b[0m     \u001b[39mreturn\u001b[39;00m handle_torch_function(\n\u001b[0;32m    389\u001b[0m         Tensor\u001b[39m.\u001b[39mbackward,\n\u001b[0;32m    390\u001b[0m         (\u001b[39mself\u001b[39m,),\n\u001b[1;32m   (...)\u001b[0m\n\u001b[0;32m    394\u001b[0m         create_graph\u001b[39m=\u001b[39mcreate_graph,\n\u001b[0;32m    395\u001b[0m         inputs\u001b[39m=\u001b[39minputs)\n\u001b[1;32m--> 396\u001b[0m torch\u001b[39m.\u001b[39;49mautograd\u001b[39m.\u001b[39;49mbackward(\u001b[39mself\u001b[39;49m, gradient, retain_graph, create_graph, inputs\u001b[39m=\u001b[39;49minputs)\n",
      "File \u001b[1;32mc:\\Users\\Aili\\miniconda3\\envs\\oprecnn\\lib\\site-packages\\torch\\autograd\\__init__.py:173\u001b[0m, in \u001b[0;36mbackward\u001b[1;34m(tensors, grad_tensors, retain_graph, create_graph, grad_variables, inputs)\u001b[0m\n\u001b[0;32m    168\u001b[0m     retain_graph \u001b[39m=\u001b[39m create_graph\n\u001b[0;32m    170\u001b[0m \u001b[39m# The reason we repeat same the comment below is that\u001b[39;00m\n\u001b[0;32m    171\u001b[0m \u001b[39m# some Python versions print out the first line of a multi-line function\u001b[39;00m\n\u001b[0;32m    172\u001b[0m \u001b[39m# calls in the traceback and some print out the last line\u001b[39;00m\n\u001b[1;32m--> 173\u001b[0m Variable\u001b[39m.\u001b[39;49m_execution_engine\u001b[39m.\u001b[39;49mrun_backward(  \u001b[39m# Calls into the C++ engine to run the backward pass\u001b[39;49;00m\n\u001b[0;32m    174\u001b[0m     tensors, grad_tensors_, retain_graph, create_graph, inputs,\n\u001b[0;32m    175\u001b[0m     allow_unreachable\u001b[39m=\u001b[39;49m\u001b[39mTrue\u001b[39;49;00m, accumulate_grad\u001b[39m=\u001b[39;49m\u001b[39mTrue\u001b[39;49;00m)\n",
      "\u001b[1;31mKeyboardInterrupt\u001b[0m: "
     ]
    }
   ],
   "source": [
    "import wave_training_and_testing\n",
    "import os.path\n",
    "\n",
    "# update changes\n",
    "from importlib import reload \n",
    "reload(wave_training_and_testing)\n",
    "reload(opnet)\n",
    "\n",
    "lr=1e-2\n",
    "\n",
    "# upload the neural network used earlier:\n",
    "# if os.path.exists(PATH):\n",
    "#     # PATH-tiedostoon on tallennettu verkko ja tämä lataa sen kertoimet ylempänä \n",
    "#     # luotuun verkkoon, eli jatketaan vanhalla verkolla\n",
    "#     model.load_state_dict(torch.load(PATH)) \n",
    "# else:\n",
    "#     print(\"no old PATH, I'll make a new one\")\n",
    "\n",
    "wave_training_and_testing.wave_training_and_testing(model, loss_fn, lr)\n"
   ]
  },
  {
   "cell_type": "markdown",
   "metadata": {},
   "source": [
    "Choose the optimization method."
   ]
  },
  {
   "cell_type": "code",
   "execution_count": null,
   "metadata": {},
   "outputs": [],
   "source": [
    "# Learning rate parameter is from the quickstart guide \n",
    "# optimizer = torch.optim.SGD(model.parameters(), lr=1e-3)"
   ]
  },
  {
   "cell_type": "markdown",
   "metadata": {},
   "source": [
    "Loop over the training data multiple times (epochs) and \n",
    "save the optimized parameters. "
   ]
  },
  {
   "cell_type": "code",
   "execution_count": null,
   "metadata": {},
   "outputs": [],
   "source": [
    "# for epoch in range(2): \n",
    "#     print(f\"Epoch {epoch+1}\\n-------------------------------\")\n",
    "#     for batch, (X, y) in enumerate(train_loader):\n",
    "#         # Compute prediction error\n",
    "#         pred = model(X)\n",
    "#         loss = loss_fn(pred, y)\n",
    "#         # Backpropagation\n",
    "#         optimizer.zero_grad()\n",
    "#         loss.backward()\n",
    "#         optimizer.step()\n",
    "#         # Print statistics\n",
    "#         if batch % 10 == 0:\n",
    "#             n, N = (batch + 1) * len(X), len(train_loader.dataset)\n",
    "#             print(f\"loss: {loss.item():>7f}  [{n:>5d}/{N:>5d}]\")\n",
    "\n",
    "torch.save(model.state_dict(), PATH)"
   ]
  },
  {
   "cell_type": "markdown",
   "metadata": {},
   "source": [
    "# Testing\n",
    "\n",
    "If we have already trained the network, we can just load its parameters. (Note that we still need to run the initialization.)"
   ]
  },
  {
   "cell_type": "code",
   "execution_count": null,
   "metadata": {},
   "outputs": [],
   "source": [
    "## Load trained variables\n",
    "# model.load_state_dict(torch.load(PATH))"
   ]
  },
  {
   "cell_type": "code",
   "execution_count": null,
   "metadata": {},
   "outputs": [],
   "source": [
    "# # Load the testing data\n",
    "# test_loader = torch.utils.data.DataLoader(\n",
    "#     load_data(\"volume_inversion_test_data.npz\"), \n",
    "#     batch_size=64)"
   ]
  },
  {
   "cell_type": "markdown",
   "metadata": {},
   "source": [
    "Compute a couple of samples."
   ]
  },
  {
   "cell_type": "code",
   "execution_count": null,
   "metadata": {},
   "outputs": [],
   "source": [
    "# dataiter = iter(test_loader)\n",
    "# X, y = dataiter.next()\n",
    "# with torch.no_grad():\n",
    "#     pred = model(X)\n",
    "# print(\"True: \")\n",
    "# print(y[:2])\n",
    "# print(\"Prediction: \")\n",
    "# print(pred[:2])"
   ]
  },
  {
   "cell_type": "code",
   "execution_count": null,
   "metadata": {},
   "outputs": [],
   "source": [
    "# num_batches = len(test_loader)\n",
    "# test_loss = 0\n",
    "# with torch.no_grad():\n",
    "#     for X, y in test_loader:\n",
    "#         pred = model(X)\n",
    "#         test_loss += loss_fn(pred, y).item()\n",
    "# test_loss /= num_batches\n",
    "# print(f\"Avg loss: {test_loss:>8f} \\n\")"
   ]
  },
  {
   "cell_type": "code",
   "execution_count": null,
   "metadata": {},
   "outputs": [],
   "source": []
  }
 ],
 "metadata": {
  "kernelspec": {
   "display_name": "Python 3.10.6 ('oprecnn')",
   "language": "python",
   "name": "python3"
  },
  "language_info": {
   "codemirror_mode": {
    "name": "ipython",
    "version": 3
   },
   "file_extension": ".py",
   "mimetype": "text/x-python",
   "name": "python",
   "nbconvert_exporter": "python",
   "pygments_lexer": "ipython3",
   "version": "3.10.6"
  },
  "orig_nbformat": 4,
  "vscode": {
   "interpreter": {
    "hash": "8c224d568f0f8fe9cd67a2fae7eb3734fc94b3a5cce8cb776805a0b269447ee5"
   }
  }
 },
 "nbformat": 4,
 "nbformat_minor": 2
}
