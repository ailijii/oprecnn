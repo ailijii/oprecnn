{
 "cells": [
  {
   "cell_type": "markdown",
   "metadata": {},
   "source": [
    "# Inverse problem for the wave equation using an operator recurrent neural network\n",
    "\n",
    "We consider the inverse problem to find $a$ in the below wave equation given \n",
    "the Neumann-to-Dirichlet map \n",
    "\n",
    "$$\n",
    "\\Lambda h = u|_{x = 0},\n",
    "$$\n",
    "\n",
    "where $u$ is the solution to the problem \n",
    "\n",
    "$$\n",
    "\\begin{cases}\n",
    "\\partial_t^2 u - a(x) \\partial_x^2 u = 0, & \\text{on $(0,T) \\times (0,L)$},\n",
    "\\\\\n",
    "\\partial_x u|_{x=0} = h, \\quad \\partial_x u|_{x=L} = 0,\n",
    "\\\\\n",
    "u|_{t=0} = 0, \\quad \\partial_t u|_{t=0} = 0.\n",
    "\\end{cases}\n",
    "$$\n",
    "\n",
    "Here we consider only a subproblem related to the inverse problem to find $a$.\n",
    "In Section 2 of \n",
    "\n",
    "> Jussi Korpela, Matti Lassas and Lauri Oksanen.\n",
    "> _Regularization strategy for an inverse problem for a 1 + 1 dimensional wave equation_.\n",
    "> Inverse Problems 32, 065001, 2016.\n",
    "> <https://doi.org/10.1088/0266-5611/32/6/065001> \n",
    "\n",
    "it was shown that $\\Lambda$ determines the following volumes \n",
    "\n",
    "$$\n",
    "V(r) = \\int_0^{\\chi(r)} \\frac{1}{c(x)^2} dx\n",
    "$$\n",
    "\n",
    "and that these volumes then determine $a$.\n",
    "Here $c^2 = a$ and $\\chi$ is the inverse function of $\\tau$ defined by\n",
    "\n",
    "$$\n",
    "\\tau(y) = \\int_0^y \\frac{1}{c(x)} dx.\n",
    "$$\n",
    "\n",
    "\n",
    "We consider the subproblem to compute a single volume $V(r_0)$, with fixed $r_0>0$, given $\\Lambda$. \n",
    "We solve this problem using a neural network, with the network architecture taken from \n",
    "\n",
    "> Maarten V. de Hoop, Matti Lassas, Christopher A. Wong. _Deep learning architectures for nonlinear operator functions and nonlinear inverse problems_. [arXiv:1912.11090](https://arxiv.org/abs/1912.11090)\n",
    "\n",
    "The training data consists of pairs $(\\Lambda, V(r_0))$ corresponding to different functions $a$.\n",
    "Here $\\Lambda$ is, of course, discretized, and the details of the discretization are discussed in the notebook describing the generation of the data. \n"
   ]
  },
  {
   "cell_type": "markdown",
   "metadata": {},
   "source": [
    "# Initialization"
   ]
  },
  {
   "cell_type": "code",
   "execution_count": null,
   "metadata": {},
   "outputs": [],
   "source": [
    "import numpy as np\n",
    "import torch\n",
    "import os #help navigate files in folder\n",
    "import matplotlib.pyplot as plt #plotting\n",
    "import pandas as pd #data frames = nice table\n",
    "\n",
    "import opnet\n",
    "from volume_inversion_data import generate_data, save_data, load_data\n",
    "\n",
    "#finding the best lr\n",
    "#PATH1 = './volume_inversion_net1.pth'\n",
    "#PATH2 = './volume_inversion_net2.pth'\n",
    "#PATH3 = './volume_inversion_net3.pth'\n",
    "#PATH4 = './volume_inversion_net4.pth'\n",
    "\n",
    "# teach until limit point\n",
    "#PATH1 = './volume_inversion_net1limit.pth'\n",
    "#PATH2 = './volume_inversion_net2limit.pth'\n",
    "#PATH3 = './volume_inversion_net3limit.pth'\n",
    "#PATH4 = './volume_inversion_net4limit.pth'\n",
    "\n",
    "#relu vs no relu\n",
    "PATH1 = './volume_inversion_net_1no_relu.pth'\n",
    "PATH2 = './volume_inversion_net_2no_relu.pth' \n",
    "PATH3 = './volume_inversion_net_3no_relu.pth' \n",
    "PATH4 = './volume_inversion_net_4no_relu.pth' \n",
    "PATH5 = './volume_inversion_net_1relu.pth' \n",
    "PATH6 = './volume_inversion_net_2relu.pth' \n",
    "PATH7 = './volume_inversion_net_3relu.pth' \n",
    "PATH8 = './volume_inversion_net_4relu.pth'\n",
    "\n",
    "#PATH = './volume_inversion_net.pth' #network that can be overwritten\n",
    "#PATH = './volume_inversion_ReLU3.pth' #biggest data (10000/2500)\n",
    "#PATH = './volume_inversion_NOReLU3.pth' #biggest data (10000/2500)\n",
    "#PATH = './volume_inversion_NOReLU2.pth' #big data (6000/1000)\n",
    "#PATH = './volume_inversion_ReLU2.pth' #big data (6000/1000)\n",
    "#PATH = './volume_inversion_NOReLU.pth' #normal data (600/100)\n",
    "#PATH = './volume_inversion_ReLU.pth' #normal data (600/100)\n",
    "#PATH = './volume_inversion_netLONG.pth' # trained 1600 epochs"
   ]
  },
  {
   "cell_type": "markdown",
   "metadata": {},
   "source": [
    "# Generation of training data"
   ]
  },
  {
   "cell_type": "code",
   "execution_count": null,
   "metadata": {},
   "outputs": [],
   "source": [
    "#save_data(*generate_data(30000), \"volume_inversion_train_data2.npz\")\n",
    "#save_data(*generate_data(5000), \"volume_inversion_test_data2.npz\")\n",
    "\n",
    "train_data_path = \"volume_inversion_train_dataBIG.npz\"\n",
    "test_data_path = \"volume_inversion_test_dataBIG.npz\""
   ]
  },
  {
   "cell_type": "markdown",
   "metadata": {},
   "source": [
    "# Training"
   ]
  },
  {
   "cell_type": "code",
   "execution_count": null,
   "metadata": {},
   "outputs": [],
   "source": [
    "# Specify the dimension and the loss function\n",
    "dim = 126 # this needs be the size of Lambda_h\n",
    "num_layers = 5\n",
    "loss_fn = torch.nn.MSELoss()\n",
    "\n",
    "import wave_training_and_testing\n",
    "import os.path\n",
    "import time\n",
    "\n",
    "# update changes\n",
    "from importlib import reload \n",
    "reload(wave_training_and_testing)\n",
    "reload(opnet)\n",
    "\n",
    "lr=1e-4\n",
    "losses_list=[]\n",
    "path_list = [PATH1, PATH2, PATH3, PATH4, PATH5, PATH6, PATH7, PATH8]\n",
    "for path in path_list:\n",
    "    start_time=time.perf_counter()\n",
    "    \n",
    "    if path in [PATH1, PATH2, PATH3, PATH4]: #network without relu\n",
    "        model = opnet.OperatorNet(dim, 2*num_layers, scalar_output=True, useReLU=False)\n",
    "        losses_list.append(wave_training_and_testing.wave_training_and_testing(model, loss_fn, lr, path, train_data_path, test_data_path))\n",
    "    else: #network with relu\n",
    "        model = opnet.OperatorNet(dim, num_layers, scalar_output=True, useReLU=True)\n",
    "        losses_list.append(wave_training_and_testing.wave_training_and_testing(model, loss_fn, lr, path, train_data_path, test_data_path))\n",
    "\n",
    "    #create the new network\n",
    "    #model = opnet.OperatorNet(dim, 2*num_layers, scalar_output=True, useReLU=False)\n",
    "    #model = opnet.OperatorNet(dim, num_layers, scalar_output=True, useReLU=True)\n",
    "    \n",
    "    #teach the network and save average losses to a list in losses_list:\n",
    "    #losses_list.append(wave_training_and_testing.wave_training_and_testing(model, loss_fn, lr, path, train_data_path, test_data_path))\n",
    "    \n",
    "    end_time = time.perf_counter()\n",
    "    print(f\"This took {(end_time - start_time)/60:0.4} minutes \\n\")"
   ]
  },
  {
   "cell_type": "code",
   "execution_count": null,
   "metadata": {},
   "outputs": [],
   "source": [
    "#Plotting\n",
    "#Livas code + own modification\n",
    "from matplotlib.lines import lineStyles\n",
    "#plt.plot(2*np.arange(1, len(losses_list[0])+1),losses_list[0], label = 'Network 1', linestyle='--')\n",
    "#plt.plot(2*np.arange(1, len(losses_list[1])+1),losses_list[1], label = 'Network 2', linestyle='--')\n",
    "#plt.plot(2*np.arange(1, len(losses_list[2])+1),losses_list[2], label = 'Network 3', linestyle='--')\n",
    "#plt.plot(2*np.arange(1, len(losses_list[3])+1),losses_list[3], label = 'Network 4', linestyle='--')\n",
    "\n",
    "plt.plot(2*np.arange(1, len(losses_list[0])+1),losses_list[0], label = 'Network without relu 1', linestyle='-')\n",
    "plt.plot(2*np.arange(1, len(losses_list[1])+1),losses_list[1], label = 'Network without relu 2', linestyle='-')\n",
    "plt.plot(2*np.arange(1, len(losses_list[2])+1),losses_list[2], label = 'Network without relu 3', linestyle='-')\n",
    "plt.plot(2*np.arange(1, len(losses_list[3])+1),losses_list[3], label = 'Network without relu 4', linestyle='-')\n",
    "plt.plot(2*np.arange(1, len(losses_list[4])+1),losses_list[4], label = 'Network with relu 1', linestyle='--')\n",
    "plt.plot(2*np.arange(1, len(losses_list[5])+1),losses_list[5], label = 'Network with relu 2', linestyle='--')\n",
    "plt.plot(2*np.arange(1, len(losses_list[6])+1),losses_list[6], label = 'Network with relu 3', linestyle='--')\n",
    "plt.plot(2*np.arange(1, len(losses_list[7])+1),losses_list[7], label = 'Network with relu 4', linestyle='--')\n",
    "\n",
    "plt.xlabel(\"Epochs\")\n",
    "plt.ylabel(\"Average Loss\")\n",
    "plt.grid()\n",
    "plt.legend()\n",
    "plt.savefig(\"../masters-thesis/data/wave-090123-reluvsnorelu.eps\", format=\"eps\") #save as eps so it's easy to insert it to latex-file"
   ]
  },
  {
   "cell_type": "code",
   "execution_count": null,
   "metadata": {},
   "outputs": [],
   "source": [
    "#Table\n",
    "# x-coordinates: \n",
    "longest = (max(len(i) for i in losses_list)) # the length of the longest list\n",
    "epo = np.arange(1,longest+1,1) # now from 1 to longest and every number. The interval is half open [1,x) so there has to be +1\n",
    "index_x = [f\"{2*e} epochs\" for e in epo]\n",
    "# y-coordinates: \n",
    "index_y = [1,2,3,4]\n",
    "df1 = pd.DataFrame(losses_list, columns=index_x, index = index_y)\n",
    "df1.index.name = \"Network\"\n",
    "# saves the table in latex-code\n",
    "df1.to_latex(\"../masters-thesis/data/wave-090123-reluvsnorelu.tex\", columns=[f\"{e} epochs\" for e in [10, 50, 100, 150, 200]])\n",
    "# saves the table in csv-form\n",
    "df1.to_csv(\"../masters-thesis/data/wave-090123-reluvsnorelu.csv\", index=True, sep=\";\", decimal=\",\") #sep=separates columns, decimal=uses , instead of .\n",
    "df1"
   ]
  }
 ],
 "metadata": {
  "kernelspec": {
   "display_name": "Python 3.10.6 ('oprecnn')",
   "language": "python",
   "name": "python3"
  },
  "language_info": {
   "codemirror_mode": {
    "name": "ipython",
    "version": 3
   },
   "file_extension": ".py",
   "mimetype": "text/x-python",
   "name": "python",
   "nbconvert_exporter": "python",
   "pygments_lexer": "ipython3",
   "version": "3.10.6 | packaged by conda-forge | (main, Aug 22 2022, 20:30:19) [MSC v.1929 64 bit (AMD64)]"
  },
  "orig_nbformat": 4,
  "vscode": {
   "interpreter": {
    "hash": "8c224d568f0f8fe9cd67a2fae7eb3734fc94b3a5cce8cb776805a0b269447ee5"
   }
  }
 },
 "nbformat": 4,
 "nbformat_minor": 2
}
