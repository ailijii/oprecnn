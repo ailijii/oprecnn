{
 "cells": [
  {
   "cell_type": "markdown",
   "metadata": {},
   "source": [
    "# Inverse problem for the wave equation using an operator recurrent neural network\n",
    "\n",
    "We consider the inverse problem to find $a$ in the below wave equation given \n",
    "the Neumann-to-Dirichlet map \n",
    "\n",
    "$$\n",
    "\\Lambda h = u|_{x = 0},\n",
    "$$\n",
    "\n",
    "where $u$ is the solution to the problem \n",
    "\n",
    "$$\n",
    "\\begin{cases}\n",
    "\\partial_t^2 u - a(x) \\partial_x^2 u = 0, & \\text{on $(0,T) \\times (0,L)$},\n",
    "\\\\\n",
    "\\partial_x u|_{x=0} = h, \\quad \\partial_x u|_{x=L} = 0,\n",
    "\\\\\n",
    "u|_{t=0} = 0, \\quad \\partial_t u|_{t=0} = 0.\n",
    "\\end{cases}\n",
    "$$\n",
    "\n",
    "Here we consider only a subproblem related to the inverse problem to find $a$.\n",
    "In Section 2 of \n",
    "\n",
    "> Jussi Korpela, Matti Lassas and Lauri Oksanen.\n",
    "> _Regularization strategy for an inverse problem for a 1 + 1 dimensional wave equation_.\n",
    "> Inverse Problems 32, 065001, 2016.\n",
    "> <https://doi.org/10.1088/0266-5611/32/6/065001> \n",
    "\n",
    "it was shown that $\\Lambda$ determines the following volumes \n",
    "\n",
    "$$\n",
    "V(r) = \\int_0^{\\chi(r)} \\frac{1}{c(x)^2} dx\n",
    "$$\n",
    "\n",
    "and that these volumes then determine $a$.\n",
    "Here $c^2 = a$ and $\\chi$ is the inverse function of $\\tau$ defined by\n",
    "\n",
    "$$\n",
    "\\tau(y) = \\int_0^y \\frac{1}{c(x)} dx.\n",
    "$$\n",
    "\n",
    "\n",
    "We consider the subproblem to compute a single volume $V(r_0)$, with fixed $r_0>0$, given $\\Lambda$. \n",
    "We solve this problem using a neural network, with the network architecture taken from \n",
    "\n",
    "> Maarten V. de Hoop, Matti Lassas, Christopher A. Wong. _Deep learning architectures for nonlinear operator functions and nonlinear inverse problems_. [arXiv:1912.11090](https://arxiv.org/abs/1912.11090)\n",
    "\n",
    "The training data consists of pairs $(\\Lambda, V(r_0))$ corresponding to different functions $a$.\n",
    "Here $\\Lambda$ is, of course, discretized, and the details of the discretization are discussed in the notebook describing the generation of the data. \n"
   ]
  },
  {
   "cell_type": "markdown",
   "metadata": {},
   "source": [
    "# Initialization"
   ]
  },
  {
   "cell_type": "code",
   "execution_count": 7,
   "metadata": {},
   "outputs": [],
   "source": [
    "import numpy as np\n",
    "import torch\n",
    "\n",
    "import opnet\n",
    "from volume_inversion_data import generate_data, save_data, load_data\n",
    "\n",
    "PATH = './volume_inversion_net.pth'"
   ]
  },
  {
   "cell_type": "markdown",
   "metadata": {},
   "source": [
    "Specify the network model and the loss function."
   ]
  },
  {
   "cell_type": "code",
   "execution_count": 8,
   "metadata": {},
   "outputs": [],
   "source": [
    "\n",
    "dim = 126 # this needs be the size of Lambda_h\n",
    "num_layers = 10\n",
    "# luodaan uusi neuroverkko\n",
    "model = opnet.OperatorNet(dim, num_layers, scalar_output=True)\n",
    "loss_fn = torch.nn.MSELoss()"
   ]
  },
  {
   "cell_type": "markdown",
   "metadata": {},
   "source": [
    "# Generation of training data"
   ]
  },
  {
   "cell_type": "code",
   "execution_count": 9,
   "metadata": {},
   "outputs": [],
   "source": [
    "#save_data(*generate_data(60), \"volume_inversion_train_data.npz\")\n",
    "#save_data(*generate_data(10), \"volume_inversion_test_data.npz\")"
   ]
  },
  {
   "cell_type": "markdown",
   "metadata": {},
   "source": [
    "# Training"
   ]
  },
  {
   "cell_type": "code",
   "execution_count": 10,
   "metadata": {},
   "outputs": [
    {
     "name": "stdout",
     "output_type": "stream",
     "text": [
      "Epoch 1\n",
      "-------------------------------\n",
      "loss: 0.302619  [   60/   60]\n",
      "Epoch 2\n",
      "-------------------------------\n",
      "loss: 0.343012  [   60/   60]\n"
     ]
    }
   ],
   "source": [
    "import wave_training_and_testing\n",
    "import os.path\n",
    "\n",
    "# update changes\n",
    "from importlib import reload \n",
    "reload(wave_training_and_testing)\n",
    "reload(opnet)\n",
    "\n",
    "lr=1e-1\n",
    "\n",
    "# upload the neural network used earlier:\n",
    "if os.path.exists(PATH):\n",
    "    model.load_state_dict(torch.load(PATH)) \n",
    "else:\n",
    "    print(\"no old PATH, I'll make a new one\")\n",
    "\n",
    "wave_training_and_testing.wave_training_and_testing(model, loss_fn, lr)\n"
   ]
  },
  {
   "cell_type": "markdown",
   "metadata": {},
   "source": [
    "Choose the optimization method."
   ]
  },
  {
   "cell_type": "code",
   "execution_count": 11,
   "metadata": {},
   "outputs": [],
   "source": [
    "# Learning rate parameter is from the quickstart guide \n",
    "# optimizer = torch.optim.SGD(model.parameters(), lr=1e-3)"
   ]
  },
  {
   "cell_type": "markdown",
   "metadata": {},
   "source": [
    "Loop over the training data multiple times (epochs) and \n",
    "save the optimized parameters. "
   ]
  },
  {
   "cell_type": "code",
   "execution_count": 12,
   "metadata": {},
   "outputs": [
    {
     "name": "stdout",
     "output_type": "stream",
     "text": [
      "Epoch 1\n",
      "-------------------------------\n"
     ]
    },
    {
     "ename": "NameError",
     "evalue": "name 'train_loader' is not defined",
     "output_type": "error",
     "traceback": [
      "\u001b[1;31m---------------------------------------------------------------------------\u001b[0m",
      "\u001b[1;31mNameError\u001b[0m                                 Traceback (most recent call last)",
      "Cell \u001b[1;32mIn [12], line 3\u001b[0m\n\u001b[0;32m      1\u001b[0m \u001b[38;5;28;01mfor\u001b[39;00m epoch \u001b[38;5;129;01min\u001b[39;00m \u001b[38;5;28mrange\u001b[39m(\u001b[38;5;241m2\u001b[39m): \n\u001b[0;32m      2\u001b[0m     \u001b[38;5;28mprint\u001b[39m(\u001b[38;5;124mf\u001b[39m\u001b[38;5;124m\"\u001b[39m\u001b[38;5;124mEpoch \u001b[39m\u001b[38;5;132;01m{\u001b[39;00mepoch\u001b[38;5;241m+\u001b[39m\u001b[38;5;241m1\u001b[39m\u001b[38;5;132;01m}\u001b[39;00m\u001b[38;5;130;01m\\n\u001b[39;00m\u001b[38;5;124m-------------------------------\u001b[39m\u001b[38;5;124m\"\u001b[39m)\n\u001b[1;32m----> 3\u001b[0m     \u001b[38;5;28;01mfor\u001b[39;00m batch, (X, y) \u001b[38;5;129;01min\u001b[39;00m \u001b[38;5;28menumerate\u001b[39m(\u001b[43mtrain_loader\u001b[49m):\n\u001b[0;32m      4\u001b[0m         \u001b[38;5;66;03m# Compute prediction error\u001b[39;00m\n\u001b[0;32m      5\u001b[0m         pred \u001b[38;5;241m=\u001b[39m model(X)\n\u001b[0;32m      6\u001b[0m         loss \u001b[38;5;241m=\u001b[39m loss_fn(pred, y)\n",
      "\u001b[1;31mNameError\u001b[0m: name 'train_loader' is not defined"
     ]
    }
   ],
   "source": [
    "# for epoch in range(2): \n",
    "#     print(f\"Epoch {epoch+1}\\n-------------------------------\")\n",
    "#     for batch, (X, y) in enumerate(train_loader):\n",
    "#         # Compute prediction error\n",
    "#         pred = model(X)\n",
    "#         loss = loss_fn(pred, y)\n",
    "#         # Backpropagation\n",
    "#         optimizer.zero_grad()\n",
    "#         loss.backward()\n",
    "#         optimizer.step()\n",
    "#         # Print statistics\n",
    "#         if batch % 10 == 0:\n",
    "#             n, N = (batch + 1) * len(X), len(train_loader.dataset)\n",
    "#             print(f\"loss: {loss.item():>7f}  [{n:>5d}/{N:>5d}]\")\n",
    "\n",
    "torch.save(model.state_dict(), PATH)"
   ]
  },
  {
   "cell_type": "markdown",
   "metadata": {},
   "source": [
    "# Testing\n",
    "\n",
    "If we have already trained the network, we can just load its parameters. (Note that we still need to run the initialization.)"
   ]
  },
  {
   "cell_type": "code",
   "execution_count": null,
   "metadata": {},
   "outputs": [
    {
     "data": {
      "text/plain": [
       "<All keys matched successfully>"
      ]
     },
     "execution_count": 27,
     "metadata": {},
     "output_type": "execute_result"
    }
   ],
   "source": [
    "## Load trained variables\n",
    "# model.load_state_dict(torch.load(PATH))"
   ]
  },
  {
   "cell_type": "code",
   "execution_count": null,
   "metadata": {},
   "outputs": [],
   "source": [
    "# # Load the testing data\n",
    "# test_loader = torch.utils.data.DataLoader(\n",
    "#     load_data(\"volume_inversion_test_data.npz\"), \n",
    "#     batch_size=64)"
   ]
  },
  {
   "cell_type": "markdown",
   "metadata": {},
   "source": [
    "Compute a couple of samples."
   ]
  },
  {
   "cell_type": "code",
   "execution_count": null,
   "metadata": {},
   "outputs": [
    {
     "name": "stdout",
     "output_type": "stream",
     "text": [
      "True: \n",
      "tensor([0.7465, 0.8891])\n",
      "Prediction: \n",
      "tensor([0.0793, 0.0613])\n"
     ]
    }
   ],
   "source": [
    "# dataiter = iter(test_loader)\n",
    "# X, y = dataiter.next()\n",
    "# with torch.no_grad():\n",
    "#     pred = model(X)\n",
    "# print(\"True: \")\n",
    "# print(y[:2])\n",
    "# print(\"Prediction: \")\n",
    "# print(pred[:2])"
   ]
  },
  {
   "cell_type": "code",
   "execution_count": null,
   "metadata": {},
   "outputs": [
    {
     "name": "stdout",
     "output_type": "stream",
     "text": [
      "Avg loss: 0.380936 \n",
      "\n"
     ]
    }
   ],
   "source": [
    "# num_batches = len(test_loader)\n",
    "# test_loss = 0\n",
    "# with torch.no_grad():\n",
    "#     for X, y in test_loader:\n",
    "#         pred = model(X)\n",
    "#         test_loss += loss_fn(pred, y).item()\n",
    "# test_loss /= num_batches\n",
    "# print(f\"Avg loss: {test_loss:>8f} \\n\")"
   ]
  },
  {
   "cell_type": "code",
   "execution_count": null,
   "metadata": {},
   "outputs": [],
   "source": []
  }
 ],
 "metadata": {
  "kernelspec": {
   "display_name": "Python 3.10.6 ('oprecnn')",
   "language": "python",
   "name": "python3"
  },
  "language_info": {
   "codemirror_mode": {
    "name": "ipython",
    "version": 3
   },
   "file_extension": ".py",
   "mimetype": "text/x-python",
   "name": "python",
   "nbconvert_exporter": "python",
   "pygments_lexer": "ipython3",
   "version": "3.10.6"
  },
  "orig_nbformat": 4,
  "vscode": {
   "interpreter": {
    "hash": "8c224d568f0f8fe9cd67a2fae7eb3734fc94b3a5cce8cb776805a0b269447ee5"
   }
  }
 },
 "nbformat": 4,
 "nbformat_minor": 2
}
