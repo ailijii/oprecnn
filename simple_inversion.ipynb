{
 "cells": [
  {
   "cell_type": "markdown",
   "metadata": {},
   "source": [
    "# Inversion of 2 by 2 matrices using an operator recurrent neural network\n",
    "\n",
    "We use a simplified version of the network architecture proposed in the preprint\n",
    "\n",
    "> Maarten V. de Hoop, Matti Lassas, Christopher A. Wong. _Deep learning architectures for nonlinear operator functions and nonlinear inverse problems_. [arXiv:1912.11090](https://arxiv.org/abs/1912.11090)\n",
    "\n",
    "and teach it to invert matrices $X$ of the form $X = R D R^T$ where\n",
    "\n",
    "$$\n",
    "R = \\begin{pmatrix}\n",
    "c & -s\n",
    "\\\\\n",
    "s & c\n",
    "\\end{pmatrix},\n",
    "\\quad\n",
    "D = \\begin{pmatrix}\n",
    "\\lambda_1 & 0\n",
    "\\\\\n",
    "0 & \\lambda_2\n",
    "\\end{pmatrix},\n",
    "$$\n",
    "$c = \\cos(\\alpha)$ and $s = \\sin(\\alpha)$ for some $\\alpha \\in (0,2\\pi)$,\n",
    "and $\\lambda_j \\in (1/2, 3/2)$, $j=1,2$.\n",
    "\n",
    "We use notations as in version 3 of the preprint (revised 3 Jan 2022). The notation is different in earlier version.\n",
    "\n",
    "In the code, variables have the same meaning as in the [Quickstart](https://pytorch.org/tutorials/beginner/basics/quickstart_tutorial.html) guige of PyTorch."
   ]
  },
  {
   "cell_type": "markdown",
   "metadata": {},
   "source": [
    "# Initialization\n",
    "\n",
    "The operator recurrent architecture is implemented in `opnet` module, and \n",
    "generation of learning data in `simple_inversion_data`. \n",
    "\n",
    "File `PATH` is used to save the parameters of the network. "
   ]
  },
  {
   "cell_type": "code",
   "execution_count": 149,
   "metadata": {},
   "outputs": [],
   "source": [
    "import numpy as np\n",
    "import torch\n",
    "\n",
    "import opnet\n",
    "from simple_inversion_data import generate_data, save_data, load_data\n",
    "\n",
    "PATH = './simple_inversion_net2.pth'\n",
    "# PATH = './simple_inversion_netReLU.pth'\n"
   ]
  },
  {
   "cell_type": "markdown",
   "metadata": {},
   "source": [
    "Specify the network model and the loss function."
   ]
  },
  {
   "cell_type": "code",
   "execution_count": 150,
   "metadata": {},
   "outputs": [],
   "source": [
    "\n",
    "dim = 2 # use 2 x 2 matrices\n",
    "num_layers = 5\n",
    "# luodaan uusi neuroverkko\n",
    "model = opnet.OperatorNet(dim, 2*num_layers, useReLU=False) \n",
    "loss_fn = torch.nn.MSELoss()"
   ]
  },
  {
   "cell_type": "markdown",
   "metadata": {},
   "source": [
    "# Generation of training data\n",
    "\n",
    "Training data consists of pairs $(X,y)$ where $X$ is an invertible $2 \\times 2$ matrix and $y = X^{-1} v$\n",
    "where $v = (1,1) \\in \\mathbb{R}^2$."
   ]
  },
  {
   "cell_type": "code",
   "execution_count": 151,
   "metadata": {},
   "outputs": [],
   "source": [
    "# save_data(*generate_data(60000), \"simple_inversion_train_data.npz\")\n",
    "# save_data(*generate_data(10000), \"simple_inversion_test_data.npz\")"
   ]
  },
  {
   "cell_type": "markdown",
   "metadata": {},
   "source": [
    "# Training"
   ]
  },
  {
   "cell_type": "code",
   "execution_count": 152,
   "metadata": {},
   "outputs": [
    {
     "name": "stdout",
     "output_type": "stream",
     "text": [
      "lr=  0.1\n",
      "kierros  1\n",
      "True: \n",
      "tensor([[[1.3861],\n",
      "         [1.5859]],\n",
      "\n",
      "        [[0.9675],\n",
      "         [1.4768]]])\n",
      "Prediction: \n",
      "tensor([[[1.3843],\n",
      "         [1.5955]],\n",
      "\n",
      "        [[0.9753],\n",
      "         [1.4741]]])\n",
      "Avg loss: 0.000030\n",
      "kierros  2\n",
      "True: \n",
      "tensor([[[1.3861],\n",
      "         [1.5859]],\n",
      "\n",
      "        [[0.9675],\n",
      "         [1.4768]]])\n",
      "Prediction: \n",
      "tensor([[[1.3842],\n",
      "         [1.5953]],\n",
      "\n",
      "        [[0.9752],\n",
      "         [1.4744]]])\n",
      "Avg loss: 0.000029\n",
      "kierros  3\n",
      "True: \n",
      "tensor([[[1.3861],\n",
      "         [1.5859]],\n",
      "\n",
      "        [[0.9675],\n",
      "         [1.4768]]])\n",
      "Prediction: \n",
      "tensor([[[1.3842],\n",
      "         [1.5951]],\n",
      "\n",
      "        [[0.9751],\n",
      "         [1.4747]]])\n",
      "Avg loss: 0.000028\n",
      "kierros  4\n",
      "True: \n",
      "tensor([[[1.3861],\n",
      "         [1.5859]],\n",
      "\n",
      "        [[0.9675],\n",
      "         [1.4768]]])\n",
      "Prediction: \n",
      "tensor([[[1.3841],\n",
      "         [1.5950]],\n",
      "\n",
      "        [[0.9750],\n",
      "         [1.4749]]])\n",
      "Avg loss: 0.000027\n",
      "kierros  5\n",
      "True: \n",
      "tensor([[[1.3861],\n",
      "         [1.5859]],\n",
      "\n",
      "        [[0.9675],\n",
      "         [1.4768]]])\n",
      "Prediction: \n",
      "tensor([[[1.3841],\n",
      "         [1.5949]],\n",
      "\n",
      "        [[0.9748],\n",
      "         [1.4752]]])\n",
      "Avg loss: 0.000026\n",
      "kierros  6\n",
      "True: \n",
      "tensor([[[1.3861],\n",
      "         [1.5859]],\n",
      "\n",
      "        [[0.9675],\n",
      "         [1.4768]]])\n",
      "Prediction: \n",
      "tensor([[[1.3841],\n",
      "         [1.5949]],\n",
      "\n",
      "        [[0.9747],\n",
      "         [1.4754]]])\n",
      "Avg loss: 0.000025\n",
      "kierros  7\n",
      "True: \n",
      "tensor([[[1.3861],\n",
      "         [1.5859]],\n",
      "\n",
      "        [[0.9675],\n",
      "         [1.4768]]])\n",
      "Prediction: \n",
      "tensor([[[1.3842],\n",
      "         [1.5948]],\n",
      "\n",
      "        [[0.9746],\n",
      "         [1.4756]]])\n",
      "Avg loss: 0.000025\n",
      "kierros  8\n",
      "True: \n",
      "tensor([[[1.3861],\n",
      "         [1.5859]],\n",
      "\n",
      "        [[0.9675],\n",
      "         [1.4768]]])\n",
      "Prediction: \n",
      "tensor([[[1.3842],\n",
      "         [1.5947]],\n",
      "\n",
      "        [[0.9744],\n",
      "         [1.4757]]])\n",
      "Avg loss: 0.000024\n",
      "kierros  9\n",
      "True: \n",
      "tensor([[[1.3861],\n",
      "         [1.5859]],\n",
      "\n",
      "        [[0.9675],\n",
      "         [1.4768]]])\n",
      "Prediction: \n",
      "tensor([[[1.3842],\n",
      "         [1.5947]],\n",
      "\n",
      "        [[0.9743],\n",
      "         [1.4758]]])\n",
      "Avg loss: 0.000023\n",
      "kierros  10\n",
      "True: \n",
      "tensor([[[1.3861],\n",
      "         [1.5859]],\n",
      "\n",
      "        [[0.9675],\n",
      "         [1.4768]]])\n",
      "Prediction: \n",
      "tensor([[[1.3842],\n",
      "         [1.5946]],\n",
      "\n",
      "        [[0.9741],\n",
      "         [1.4760]]])\n",
      "Avg loss: 0.000023\n",
      "kierros  11\n",
      "True: \n",
      "tensor([[[1.3861],\n",
      "         [1.5859]],\n",
      "\n",
      "        [[0.9675],\n",
      "         [1.4768]]])\n",
      "Prediction: \n",
      "tensor([[[1.3843],\n",
      "         [1.5946]],\n",
      "\n",
      "        [[0.9740],\n",
      "         [1.4761]]])\n",
      "Avg loss: 0.000022\n",
      "kierros  12\n",
      "True: \n",
      "tensor([[[1.3861],\n",
      "         [1.5859]],\n",
      "\n",
      "        [[0.9675],\n",
      "         [1.4768]]])\n",
      "Prediction: \n",
      "tensor([[[1.3843],\n",
      "         [1.5945]],\n",
      "\n",
      "        [[0.9739],\n",
      "         [1.4762]]])\n",
      "Avg loss: 0.000021\n",
      "kierros  13\n",
      "True: \n",
      "tensor([[[1.3861],\n",
      "         [1.5859]],\n",
      "\n",
      "        [[0.9675],\n",
      "         [1.4768]]])\n",
      "Prediction: \n",
      "tensor([[[1.3844],\n",
      "         [1.5945]],\n",
      "\n",
      "        [[0.9737],\n",
      "         [1.4763]]])\n",
      "Avg loss: 0.000021\n",
      "kierros  14\n",
      "True: \n",
      "tensor([[[1.3861],\n",
      "         [1.5859]],\n",
      "\n",
      "        [[0.9675],\n",
      "         [1.4768]]])\n",
      "Prediction: \n",
      "tensor([[[1.3844],\n",
      "         [1.5944]],\n",
      "\n",
      "        [[0.9736],\n",
      "         [1.4763]]])\n",
      "Avg loss: 0.000020\n",
      "kierros  15\n",
      "True: \n",
      "tensor([[[1.3861],\n",
      "         [1.5859]],\n",
      "\n",
      "        [[0.9675],\n",
      "         [1.4768]]])\n",
      "Prediction: \n",
      "tensor([[[1.3845],\n",
      "         [1.5944]],\n",
      "\n",
      "        [[0.9734],\n",
      "         [1.4764]]])\n",
      "Avg loss: 0.000020\n"
     ]
    }
   ],
   "source": [
    "import training_and_testing\n",
    "\n",
    "# update changes in training_and_testing.py\n",
    "from importlib import reload \n",
    "reload(training_and_testing)\n",
    "\n",
    "lr=1e-1\n",
    "#lataa aikaisemmin käytetty verkko:\n",
    "model.load_state_dict(torch.load(PATH)) \n",
    "training_and_testing.training_and_testing(model, loss_fn, lr)"
   ]
  },
  {
   "cell_type": "code",
   "execution_count": 153,
   "metadata": {},
   "outputs": [],
   "source": [
    "# Load the training data\n",
    "# train_loader = torch.utils.data.DataLoader(\n",
    "#     load_data(\"simple_inversion_train_data.npz\"), \n",
    "#     batch_size=64)"
   ]
  },
  {
   "cell_type": "markdown",
   "metadata": {},
   "source": [
    "Choose the optimization method."
   ]
  },
  {
   "cell_type": "code",
   "execution_count": 154,
   "metadata": {},
   "outputs": [],
   "source": [
    "# Learning rate parameter is from the quickstart guide \n",
    "# optimizer = torch.optim.SGD(model.parameters(), lr=1e-3)"
   ]
  },
  {
   "cell_type": "markdown",
   "metadata": {},
   "source": [
    "Loop over the training data multiple times (epochs) and \n",
    "save the optimized parameters. "
   ]
  },
  {
   "cell_type": "code",
   "execution_count": 155,
   "metadata": {},
   "outputs": [],
   "source": [
    "# for epoch in range(2): \n",
    "#     print(f\"Epoch {epoch+1}\\n-------------------------------\")\n",
    "#     for batch, (X, y) in enumerate(train_loader):\n",
    "#         # Compute prediction error\n",
    "#         pred = model(X)\n",
    "#         loss = loss_fn(pred, y)\n",
    "#         # Backpropagation\n",
    "#         optimizer.zero_grad()\n",
    "#         loss.backward()\n",
    "#         optimizer.step()\n",
    "#         # Print statistics\n",
    "#         if batch % 100 == 0:\n",
    "#             n, N = (batch + 1) * len(X), len(train_loader.dataset)\n",
    "#             print(f\"loss: {loss.item():>7f}  [{n:>5d}/{N:>5d}]\")\n",
    "\n",
    "torch.save(model.state_dict(), PATH)"
   ]
  },
  {
   "cell_type": "markdown",
   "metadata": {},
   "source": [
    "# Testing\n",
    "\n",
    "If we have already trained the network, we can just load its parameters. (Note that we still need to run the initialization.)"
   ]
  },
  {
   "cell_type": "code",
   "execution_count": 156,
   "metadata": {},
   "outputs": [],
   "source": [
    "## Load trained variables\n",
    "# model.load_state_dict(torch.load(PATH))"
   ]
  },
  {
   "cell_type": "code",
   "execution_count": 157,
   "metadata": {},
   "outputs": [],
   "source": [
    "# Load the testing data\n",
    "# test_loader = torch.utils.data.DataLoader(\n",
    "#     load_data(\"simple_inversion_test_data.npz\"), \n",
    "#     batch_size=64)"
   ]
  },
  {
   "cell_type": "markdown",
   "metadata": {},
   "source": [
    "Compute a couple of samples."
   ]
  },
  {
   "cell_type": "code",
   "execution_count": 158,
   "metadata": {},
   "outputs": [],
   "source": [
    "# dataiter = iter(test_loader)\n",
    "# X, y = dataiter.next()\n",
    "# with torch.no_grad():\n",
    "#     pred = model(X)\n",
    "# print(\"True: \")\n",
    "# print(y[:2])\n",
    "# print(\"Prediction: \")\n",
    "# print(pred[:2])"
   ]
  },
  {
   "cell_type": "code",
   "execution_count": 159,
   "metadata": {},
   "outputs": [],
   "source": [
    "# num_batches = len(test_loader)\n",
    "# test_loss = 0\n",
    "# with torch.no_grad():\n",
    "#     for X, y in test_loader:\n",
    "#         pred = model(X)\n",
    "#         test_loss += loss_fn(pred, y).item()\n",
    "# test_loss /= num_batches\n",
    "# print(f\"Avg loss: {test_loss:>8f} \\n\")"
   ]
  },
  {
   "cell_type": "code",
   "execution_count": null,
   "metadata": {},
   "outputs": [],
   "source": []
  }
 ],
 "metadata": {
  "interpreter": {
   "hash": "8f2046300ef7c0db0fa8abb336d3efc92823433443e4058b7e3e3125d8bae97b"
  },
  "kernelspec": {
   "display_name": "Python 3.9.7 64-bit ('pytorch': conda)",
   "language": "python",
   "name": "python3"
  },
  "language_info": {
   "codemirror_mode": {
    "name": "ipython",
    "version": 3
   },
   "file_extension": ".py",
   "mimetype": "text/x-python",
   "name": "python",
   "nbconvert_exporter": "python",
   "pygments_lexer": "ipython3",
   "version": "3.9.7"
  },
  "orig_nbformat": 4
 },
 "nbformat": 4,
 "nbformat_minor": 2
}
